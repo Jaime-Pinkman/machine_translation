{
 "cells": [
  {
   "cell_type": "code",
   "execution_count": 1,
   "metadata": {},
   "outputs": [
    {
     "name": "stderr",
     "output_type": "stream",
     "text": [
      "/home/nm_marat/mambaforge/envs/mt/lib/python3.10/site-packages/tqdm/auto.py:21: TqdmWarning: IProgress not found. Please update jupyter and ipywidgets. See https://ipywidgets.readthedocs.io/en/stable/user_install.html\n",
      "  from .autonotebook import tqdm as notebook_tqdm\n"
     ]
    }
   ],
   "source": [
    "from pathlib import Path\n",
    "\n",
    "import pandas as pd\n",
    "import matplotlib.pyplot as plt\n",
    "import numpy as np\n",
    "from sklearn.model_selection import StratifiedKFold\n",
    "import torch\n",
    "from torch import nn\n",
    "import pytorch_lightning as pl\n",
    "from pytorch_lightning.callbacks import EarlyStopping, ModelCheckpoint\n",
    "\n",
    "from src.models import Tokenizer, Vocabulary, VectorizerFactory\n",
    "from src.lightning import SentenceClassifier\n",
    "from src.data.datasets import SparseDatasetFactory, DenseDatasetFactory\n",
    "from src.data.datamodules import TrainValDataModule"
   ]
  },
  {
   "cell_type": "code",
   "execution_count": 2,
   "metadata": {},
   "outputs": [],
   "source": [
    "BASE_DIR = Path().resolve().parent\n",
    "CONVERTED = \"data/converted\"\n",
    "\n",
    "df_train = pd.read_csv(str(BASE_DIR / CONVERTED / \"train.csv\"))\n",
    "df_test = pd.read_csv(str(BASE_DIR / CONVERTED / \"test.csv\"))"
   ]
  },
  {
   "cell_type": "code",
   "execution_count": 3,
   "metadata": {},
   "outputs": [],
   "source": [
    "MAX_DF = 0.8\n",
    "MIN_COUNT = 5\n",
    "MIN_TOKEN_SIZE = 4\n",
    "\n",
    "vocabulary = Vocabulary(max_doc_freq=MAX_DF, min_count=MIN_COUNT)\n",
    "tokenizer = Tokenizer(min_token_size=MIN_TOKEN_SIZE)"
   ]
  },
  {
   "cell_type": "code",
   "execution_count": 4,
   "metadata": {},
   "outputs": [],
   "source": [
    "tokenized_texts_train = tokenizer.tokenize_corpus(list(df_train[\"text\"]))\n",
    "tokenized_texts_test = tokenizer.tokenize_corpus(list(df_test[\"text\"]))\n",
    "\n",
    "vocabulary.build(tokenized_texts_train)"
   ]
  },
  {
   "cell_type": "code",
   "execution_count": 5,
   "metadata": {},
   "outputs": [],
   "source": [
    "use_sparse = True"
   ]
  },
  {
   "cell_type": "code",
   "execution_count": 6,
   "metadata": {},
   "outputs": [],
   "source": [
    "vectorizer_factory = VectorizerFactory(\n",
    "    vocabulary, mode=\"tfidf\", scale=\"minmax\", use_sparse=use_sparse\n",
    ")\n",
    "vectorizer = vectorizer_factory.get_vectorizer()"
   ]
  },
  {
   "cell_type": "code",
   "execution_count": 7,
   "metadata": {},
   "outputs": [],
   "source": [
    "train_vectors = vectorizer.vectorize(tokenized_texts_train)\n",
    "test_vectors = vectorizer.vectorize(tokenized_texts_test)\n",
    "\n",
    "train_targets = df_train[\"label_index\"].to_numpy()\n",
    "test_targets = df_test[\"label_index\"].to_numpy()"
   ]
  },
  {
   "cell_type": "code",
   "execution_count": 8,
   "metadata": {},
   "outputs": [],
   "source": [
    "dataset_factory = SparseDatasetFactory() if use_sparse else DenseDatasetFactory()\n",
    "\n",
    "train_dataset = dataset_factory.create_dataset(train_vectors, train_targets)\n",
    "test_dataset = dataset_factory.create_dataset(test_vectors, test_targets)\n",
    "\n",
    "data_module = TrainValDataModule(\n",
    "    train_dataset,\n",
    "    test_dataset,\n",
    "    batch_size=32,\n",
    "    num_workers=1,\n",
    ")"
   ]
  },
  {
   "cell_type": "code",
   "execution_count": 9,
   "metadata": {},
   "outputs": [],
   "source": [
    "# define the early stopping and model checkpoint callbacks\n",
    "early_stop_callback = EarlyStopping(\n",
    "    monitor=\"val_loss\", patience=3, verbose=False, mode=\"min\"\n",
    ")\n",
    "checkpoint_callback = ModelCheckpoint(\n",
    "    monitor=\"val_loss\",\n",
    "    dirpath=\"../experiments/exp01\",\n",
    "    filename=\"models/{epoch:02d}-{val_loss:.2f}\",\n",
    "    save_top_k=1,\n",
    "    mode=\"min\",\n",
    ")"
   ]
  },
  {
   "cell_type": "code",
   "execution_count": 10,
   "metadata": {},
   "outputs": [
    {
     "name": "stderr",
     "output_type": "stream",
     "text": [
      "GPU available: True (cuda), used: True\n",
      "TPU available: False, using: 0 TPU cores\n",
      "IPU available: False, using: 0 IPUs\n",
      "HPU available: False, using: 0 HPUs\n",
      "/home/nm_marat/mambaforge/envs/mt/lib/python3.10/site-packages/pytorch_lightning/trainer/connectors/logger_connector/logger_connector.py:67: UserWarning: Starting from v1.9.0, `tensorboardX` has been removed as a dependency of the `pytorch_lightning` package, due to potential conflicts with other packages in the ML ecosystem. For this reason, `logger=True` will use `CSVLogger` as the default logger, unless the `tensorboard` or `tensorboardX` packages are found. Please `pip install lightning[extra]` or one of them to enable TensorBoard support by default\n",
      "  warning_cache.warn(\n"
     ]
    }
   ],
   "source": [
    "trainer = pl.Trainer(\n",
    "    max_epochs=10,\n",
    "    accelerator=\"gpu\",\n",
    "    devices=1,\n",
    "    callbacks=[early_stop_callback, checkpoint_callback],\n",
    ")"
   ]
  },
  {
   "cell_type": "code",
   "execution_count": 11,
   "metadata": {},
   "outputs": [],
   "source": [
    "UNIQUE_WORDS_N = len(vocabulary)\n",
    "UNIQUE_LABELS_N = len(set(train_targets))\n",
    "\n",
    "lightning_model = SentenceClassifier(\n",
    "    model=nn.Linear(UNIQUE_WORDS_N, UNIQUE_LABELS_N),\n",
    "    criterion=nn.CrossEntropyLoss(),\n",
    "    num_classes=UNIQUE_LABELS_N,\n",
    ")"
   ]
  },
  {
   "cell_type": "code",
   "execution_count": 12,
   "metadata": {},
   "outputs": [
    {
     "name": "stderr",
     "output_type": "stream",
     "text": [
      "You are using a CUDA device ('NVIDIA A100 80GB PCIe') that has Tensor Cores. To properly utilize them, you should set `torch.set_float32_matmul_precision('medium' | 'high')` which will trade-off precision for performance. For more details, read https://pytorch.org/docs/stable/generated/torch.set_float32_matmul_precision.html#torch.set_float32_matmul_precision\n",
      "LOCAL_RANK: 0 - CUDA_VISIBLE_DEVICES: [0,1,2]\n",
      "\n",
      "  | Name      | Type               | Params\n",
      "-------------------------------------------------\n",
      "0 | model     | Linear             | 432 K \n",
      "1 | criterion | CrossEntropyLoss   | 0     \n",
      "2 | train_acc | MulticlassAccuracy | 0     \n",
      "3 | val_acc   | MulticlassAccuracy | 0     \n",
      "-------------------------------------------------\n",
      "432 K     Trainable params\n",
      "0         Non-trainable params\n",
      "432 K     Total params\n",
      "1.730     Total estimated model params size (MB)\n"
     ]
    },
    {
     "name": "stdout",
     "output_type": "stream",
     "text": [
      "Sanity Checking: 0it [00:00, ?it/s]"
     ]
    },
    {
     "name": "stderr",
     "output_type": "stream",
     "text": [
      "/home/nm_marat/mambaforge/envs/mt/lib/python3.10/site-packages/pytorch_lightning/trainer/connectors/data_connector.py:432: PossibleUserWarning: The dataloader, val_dataloader, does not have many workers which may be a bottleneck. Consider increasing the value of the `num_workers` argument` (try 128 which is the number of cpus on this machine) in the `DataLoader` init to improve performance.\n",
      "  rank_zero_warn(\n"
     ]
    },
    {
     "name": "stdout",
     "output_type": "stream",
     "text": [
      "                                                                           \r"
     ]
    },
    {
     "name": "stderr",
     "output_type": "stream",
     "text": [
      "/home/nm_marat/mambaforge/envs/mt/lib/python3.10/site-packages/pytorch_lightning/trainer/connectors/data_connector.py:432: PossibleUserWarning: The dataloader, train_dataloader, does not have many workers which may be a bottleneck. Consider increasing the value of the `num_workers` argument` (try 128 which is the number of cpus on this machine) in the `DataLoader` init to improve performance.\n",
      "  rank_zero_warn(\n"
     ]
    },
    {
     "name": "stdout",
     "output_type": "stream",
     "text": [
      "Epoch 9: 100%|██████████| 354/354 [00:02<00:00, 132.20it/s, v_num=13, train_loss=2.950, val_loss=2.980, train_acc=0.465]"
     ]
    },
    {
     "name": "stderr",
     "output_type": "stream",
     "text": [
      "`Trainer.fit` stopped: `max_epochs=10` reached.\n"
     ]
    },
    {
     "name": "stdout",
     "output_type": "stream",
     "text": [
      "Epoch 9: 100%|██████████| 354/354 [00:02<00:00, 131.28it/s, v_num=13, train_loss=2.950, val_loss=2.980, train_acc=0.465]\n"
     ]
    }
   ],
   "source": [
    "trainer.fit(lightning_model, data_module)"
   ]
  },
  {
   "cell_type": "code",
   "execution_count": 13,
   "metadata": {},
   "outputs": [
    {
     "name": "stdout",
     "output_type": "stream",
     "text": [
      "Collecting environment information...\n",
      "PyTorch version: 1.13.1+cu117\n",
      "Is debug build: False\n",
      "CUDA used to build PyTorch: 11.7\n",
      "ROCM used to build PyTorch: N/A\n",
      "\n",
      "OS: Ubuntu 22.04.1 LTS (x86_64)\n",
      "GCC version: (Ubuntu 11.3.0-1ubuntu1~22.04.1) 11.3.0\n",
      "Clang version: Could not collect\n",
      "CMake version: version 3.22.1\n",
      "Libc version: glibc-2.35\n",
      "\n",
      "Python version: 3.10.0 | packaged by conda-forge | (default, Nov 20 2021, 02:24:10) [GCC 9.4.0] (64-bit runtime)\n",
      "Python platform: Linux-5.15.0-71-generic-x86_64-with-glibc2.35\n",
      "Is CUDA available: True\n",
      "CUDA runtime version: Could not collect\n",
      "CUDA_MODULE_LOADING set to: LAZY\n",
      "GPU models and configuration: \n",
      "GPU 0: NVIDIA A100 80GB PCIe\n",
      "GPU 1: NVIDIA A100 80GB PCIe\n",
      "GPU 2: NVIDIA A100 80GB PCIe\n",
      "\n",
      "Nvidia driver version: 525.60.13\n",
      "cuDNN version: Could not collect\n",
      "HIP runtime version: N/A\n",
      "MIOpen runtime version: N/A\n",
      "Is XNNPACK available: True\n",
      "\n",
      "Versions of relevant libraries:\n",
      "[pip3] mypy==1.4.1\n",
      "[pip3] mypy-extensions==1.0.0\n",
      "[pip3] numpy==1.25.1\n",
      "[pip3] pytorch-lightning==2.0.5\n",
      "[pip3] torch==1.13.1\n",
      "[pip3] torchmetrics==1.0.1\n",
      "[conda] numpy                     1.25.1                   pypi_0    pypi\n",
      "[conda] pytorch-lightning         2.0.5                    pypi_0    pypi\n",
      "[conda] torch                     1.13.1                   pypi_0    pypi\n",
      "[conda] torchmetrics              1.0.1                    pypi_0    pypi\n",
      "True\n",
      "(2, 14, 3)\n"
     ]
    }
   ],
   "source": [
    "! python -m torch.utils.collect_env\n",
    "print(torch.cuda.nccl.is_available(torch.randn(1).cuda()))\n",
    "print(torch.cuda.nccl.version())"
   ]
  },
  {
   "cell_type": "code",
   "execution_count": null,
   "metadata": {},
   "outputs": [],
   "source": [
    "# Initialize your StratifiedKFold\n",
    "num_folds = 5\n",
    "skf = StratifiedKFold(n_splits=num_folds)\n",
    "\n",
    "# List to store metrics\n",
    "metrics = []\n",
    "\n",
    "# Start the cross validation\n",
    "for fold, (train_idx, val_idx) in enumerate(skf.split(train_vectors, train_targets)):\n",
    "    print(f\"Processing Fold {fold}\")\n",
    "\n",
    "    train_features = train_vectors[train_idx]\n",
    "    train_targets = train_targets[train_idx]\n",
    "    val_features = train_vectors[val_idx]\n",
    "    val_targets = train_targets[val_idx]\n",
    "\n",
    "    # Create your datasets using factory\n",
    "    train_dataset = dataset_factory.create_dataset(\n",
    "        features=train_features, targets=train_targets\n",
    "    )\n",
    "    val_dataset = dataset_factory.create_dataset(\n",
    "        features=val_features, targets=val_targets\n",
    "    )\n",
    "\n",
    "    # Then wrap your datasets using data module\n",
    "    data_module = TrainValDataModule(\n",
    "        train_dataset=train_dataset, val_dataset=val_dataset\n",
    "    )\n",
    "\n",
    "    # Initialize your model with hyperparameters\n",
    "    UNIQUE_WORDS_N = len(vocabulary)\n",
    "    UNIQUE_LABELS_N = len(set(train_targets))\n",
    "    lightning_model = SentenceClassifier(\n",
    "        model=nn.Linear(UNIQUE_WORDS_N, UNIQUE_LABELS_N),\n",
    "        criterion=nn.CrossEntropyLoss(),\n",
    "        num_classes=UNIQUE_LABELS_N,\n",
    "    )\n",
    "\n",
    "    # Initialize the trainer\n",
    "    trainer = pl.Trainer(\n",
    "        max_epochs=10,\n",
    "        accelerator=\"gpu\",\n",
    "        devices=1,\n",
    "        callbacks=[early_stop_callback, checkpoint_callback],\n",
    "    )\n",
    "\n",
    "    # Fit the model\n",
    "    trainer.fit(lightning_model, data_module)\n",
    "\n",
    "    # At the end of each fold, you can log the metrics or use them to update your hyperparameters\n",
    "    fold_metrics = trainer.logged_metrics\n",
    "    print(f\"Fold {fold} metrics: {fold_metrics}\")\n",
    "\n",
    "    metrics.append(fold_metrics)\n",
    "\n",
    "# Once the loop is finished, you can compute the average metrics\n",
    "average_metrics = {\n",
    "    metric: np.mean([fold[metric] for fold in metrics]) for metric in metrics[0]\n",
    "}\n",
    "print(f\"Average metrics: {average_metrics}\")"
   ]
  }
 ],
 "metadata": {
  "interpreter": {
   "hash": "ecde725cc65143996bb99a158e6a835ceea39a82b5ae887c114ed7ad9018d34b"
  },
  "kernelspec": {
   "display_name": "Python 3.10.0 ('mt')",
   "language": "python",
   "name": "python3"
  },
  "language_info": {
   "codemirror_mode": {
    "name": "ipython",
    "version": 3
   },
   "file_extension": ".py",
   "mimetype": "text/x-python",
   "name": "python",
   "nbconvert_exporter": "python",
   "pygments_lexer": "ipython3",
   "version": "3.10.0"
  },
  "orig_nbformat": 4
 },
 "nbformat": 4,
 "nbformat_minor": 2
}
