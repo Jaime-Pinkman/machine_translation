{
 "cells": [
  {
   "cell_type": "code",
   "execution_count": null,
   "metadata": {},
   "outputs": [],
   "source": [
    "from clearml import StorageManager, Dataset"
   ]
  },
  {
   "cell_type": "code",
   "execution_count": 1,
   "metadata": {},
   "outputs": [
    {
     "name": "stdout",
     "output_type": "stream",
     "text": [
      "2023-06-28 01:24:45,431 - clearml.storage - INFO - Downloading: 5.00MB / 13.79MB @ 1.52MBs from http://qwone.com/~jason/20Newsgroups/20news-bydate.tar.gz\n",
      "2023-06-28 01:24:47,553 - clearml.storage - INFO - Downloading: 10.00MB / 13.79MB @ 2.36MBs from http://qwone.com/~jason/20Newsgroups/20news-bydate.tar.gz\n",
      "2023-06-28 01:24:49,082 - clearml.storage - INFO - Downloaded 13.79 MB successfully from http://qwone.com/~jason/20Newsgroups/20news-bydate.tar.gz , saved to /home/nm_marat/.clearml/cache/storage_manager/global/9d28f8ed6158dbd8a694b6860e5f802f.20news-bydate.tar.gz\n"
     ]
    }
   ],
   "source": [
    "manager = StorageManager()\n",
    "dataset_path = manager.get_local_copy(\n",
    "    remote_url=\"http://qwone.com/~jason/20Newsgroups/20news-bydate.tar.gz\"\n",
    ")"
   ]
  },
  {
   "cell_type": "code",
   "execution_count": 3,
   "metadata": {},
   "outputs": [
    {
     "data": {
      "text/plain": [
       "'/home/nm_marat/.clearml/cache/storage_manager/global/9d28f8ed6158dbd8a694b6860e5f802f.20news-bydate_artifacts_archive_None'"
      ]
     },
     "execution_count": 3,
     "metadata": {},
     "output_type": "execute_result"
    }
   ],
   "source": [
    "dataset_path"
   ]
  },
  {
   "cell_type": "code",
   "execution_count": 2,
   "metadata": {},
   "outputs": [
    {
     "name": "stdout",
     "output_type": "stream",
     "text": [
      "ClearML results page: https://app.clear.ml/projects/03c1e176d014441b832981181de6abd5/experiments/86633e09780d4392b5d598b59a4f3ee2/output/log\n",
      "ClearML dataset page: https://app.clear.ml/datasets/simple/03c1e176d014441b832981181de6abd5/experiments/86633e09780d4392b5d598b59a4f3ee2\n"
     ]
    }
   ],
   "source": [
    "dataset = Dataset.create(\n",
    "    dataset_name=\"news_clsf\", dataset_project=\"News Classification\"\n",
    ")"
   ]
  },
  {
   "cell_type": "code",
   "execution_count": 4,
   "metadata": {},
   "outputs": [
    {
     "name": "stdout",
     "output_type": "stream",
     "text": [
      "Generating SHA2 hash for 18846 files\n",
      "Hash generation completed\n"
     ]
    },
    {
     "data": {
      "text/plain": [
       "18846"
      ]
     },
     "execution_count": 4,
     "metadata": {},
     "output_type": "execute_result"
    }
   ],
   "source": [
    "dataset.add_files(path=dataset_path)"
   ]
  },
  {
   "cell_type": "code",
   "execution_count": 5,
   "metadata": {},
   "outputs": [
    {
     "name": "stdout",
     "output_type": "stream",
     "text": [
      "Uploading dataset changes (18846 files compressed to 32.45 MiB) to https://files.clear.ml\n",
      "File compression and upload completed: total size 32.45 MiB, 1 chunk(s) stored (average size 32.45 MiB)\n"
     ]
    }
   ],
   "source": [
    "dataset.upload()"
   ]
  },
  {
   "cell_type": "code",
   "execution_count": 6,
   "metadata": {},
   "outputs": [
    {
     "data": {
      "text/plain": [
       "True"
      ]
     },
     "execution_count": 6,
     "metadata": {},
     "output_type": "execute_result"
    }
   ],
   "source": [
    "dataset.finalize()"
   ]
  }
 ],
 "metadata": {
  "interpreter": {
   "hash": "ecde725cc65143996bb99a158e6a835ceea39a82b5ae887c114ed7ad9018d34b"
  },
  "kernelspec": {
   "display_name": "Python 3.10.0 ('mt')",
   "language": "python",
   "name": "python3"
  },
  "language_info": {
   "codemirror_mode": {
    "name": "ipython",
    "version": 3
   },
   "file_extension": ".py",
   "mimetype": "text/x-python",
   "name": "python",
   "nbconvert_exporter": "python",
   "pygments_lexer": "ipython3",
   "version": "3.10.0"
  },
  "orig_nbformat": 4
 },
 "nbformat": 4,
 "nbformat_minor": 2
}
