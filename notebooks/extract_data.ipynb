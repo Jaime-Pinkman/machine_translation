{
 "cells": [
  {
   "cell_type": "code",
   "execution_count": 67,
   "metadata": {},
   "outputs": [],
   "source": [
    "from clearml import Dataset\n",
    "from os import listdir\n",
    "from os.path import join as joinpath\n",
    "import pandas as pd\n",
    "from pathlib import Path"
   ]
  },
  {
   "cell_type": "code",
   "execution_count": 2,
   "metadata": {},
   "outputs": [],
   "source": [
    "dataset_name = \"news_clsf\"\n",
    "dataset_project = \"News Classification\""
   ]
  },
  {
   "cell_type": "code",
   "execution_count": 5,
   "metadata": {},
   "outputs": [],
   "source": [
    "dataset_path = Dataset.get(\n",
    "    dataset_name=dataset_name, dataset_project=dataset_project\n",
    ").get_local_copy()"
   ]
  },
  {
   "cell_type": "code",
   "execution_count": 6,
   "metadata": {},
   "outputs": [],
   "source": [
    "def load_data(directory):\n",
    "    data = []\n",
    "    labels = []\n",
    "    label_names = []\n",
    "\n",
    "    for label_index, label in enumerate(sorted(listdir(directory))):\n",
    "        label_names.append(label)\n",
    "        for file in listdir(joinpath(directory, label)):\n",
    "            with open(joinpath(directory, label, file), \"r\", encoding=\"latin-1\") as f:\n",
    "                data.append(f.read())\n",
    "                labels.append(label_index)\n",
    "\n",
    "    return data, labels, label_names"
   ]
  },
  {
   "cell_type": "code",
   "execution_count": 7,
   "metadata": {},
   "outputs": [],
   "source": [
    "train_directory = \"20news-bydate-train\"\n",
    "test_directory = \"20news-bydate-test\"\n",
    "\n",
    "X_train, y_train, target_names_train = load_data(\n",
    "    joinpath(dataset_path, train_directory)\n",
    ")\n",
    "X_test, y_test, target_names_test = load_data(joinpath(dataset_path, test_directory))"
   ]
  },
  {
   "cell_type": "code",
   "execution_count": 68,
   "metadata": {},
   "outputs": [],
   "source": [
    "def create_csv(X, y, label_names, file_name):\n",
    "    df = pd.DataFrame({\"text\": X, \"label_index\": y})\n",
    "    df[\"label_name\"] = df[\"label_index\"].apply(lambda x: label_names[x])\n",
    "    df.to_csv(file_name, index=False)"
   ]
  },
  {
   "cell_type": "code",
   "execution_count": 75,
   "metadata": {},
   "outputs": [],
   "source": [
    "BASE_DIR = Path().resolve().parent\n",
    "CONVERTED = \"data/converted\"\n",
    "create_csv(\n",
    "    X_train, y_train, target_names_train, str(BASE_DIR / CONVERTED / \"train.csv\")\n",
    ")\n",
    "create_csv(X_test, y_test, target_names_test, str(BASE_DIR / CONVERTED / \"test.csv\"))"
   ]
  },
  {
   "cell_type": "code",
   "execution_count": 81,
   "metadata": {},
   "outputs": [
    {
     "name": "stdout",
     "output_type": "stream",
     "text": [
      "ClearML results page: https://app.clear.ml/projects/1ac7fdc2f02d4bf5a5598f150047fd47/experiments/c08dcfca66eb41e8911496c1077162bb/output/log\n",
      "ClearML dataset page: https://app.clear.ml/datasets/simple/1ac7fdc2f02d4bf5a5598f150047fd47/experiments/c08dcfca66eb41e8911496c1077162bb\n",
      "Uploading dataset changes (2 files compressed to 21.65 MiB) to https://files.clear.ml\n",
      "File compression and upload completed: total size 21.65 MiB, 1 chunk(s) stored (average size 21.65 MiB)\n"
     ]
    },
    {
     "data": {
      "text/plain": [
       "True"
      ]
     },
     "execution_count": 81,
     "metadata": {},
     "output_type": "execute_result"
    }
   ],
   "source": [
    "new_dataset = Dataset.create(\n",
    "    dataset_name=\"news_clsf_csv\",\n",
    "    dataset_project=\"News Classification\",\n",
    ")\n",
    "\n",
    "new_dataset.add_files(path=str(BASE_DIR / CONVERTED / \"train.csv\"))\n",
    "new_dataset.add_files(path=str(BASE_DIR / CONVERTED / \"test.csv\"))\n",
    "\n",
    "new_dataset.upload()\n",
    "\n",
    "new_dataset.finalize()"
   ]
  },
  {
   "cell_type": "code",
   "execution_count": 82,
   "metadata": {},
   "outputs": [],
   "source": [
    "dataset = Dataset.get(dataset_id=\"c08dcfca66eb41e8911496c1077162bb\")"
   ]
  },
  {
   "cell_type": "code",
   "execution_count": 84,
   "metadata": {},
   "outputs": [],
   "source": [
    "from collections import Counter\n",
    "\n",
    "label_counts_train = Counter(y_train)\n",
    "label_counts_test = Counter(y_test)\n",
    "\n",
    "labels_train, values_train = zip(*Counter(y_train).items())\n",
    "labels_train = [target_names_train[label] for label in labels_train]\n",
    "\n",
    "labels_test, values_test = zip(*Counter(y_test).items())\n",
    "labels_test = [target_names_test[label] for label in labels_test]\n",
    "\n",
    "logger = dataset.get_logger()\n",
    "\n",
    "logger.report_histogram(\n",
    "    title=\"Class Distribution\",\n",
    "    series=\"Train Classes\",\n",
    "    iteration=0,\n",
    "    values=values_train,\n",
    "    xaxis=labels_train,\n",
    ")\n",
    "\n",
    "logger.report_histogram(\n",
    "    title=\"Class Distribution\",\n",
    "    series=\"Test Classes\",\n",
    "    iteration=0,\n",
    "    values=values_test,\n",
    "    xaxis=labels_test,\n",
    ")"
   ]
  }
 ],
 "metadata": {
  "interpreter": {
   "hash": "ecde725cc65143996bb99a158e6a835ceea39a82b5ae887c114ed7ad9018d34b"
  },
  "kernelspec": {
   "display_name": "Python 3.10.0 ('mt')",
   "language": "python",
   "name": "python3"
  },
  "language_info": {
   "codemirror_mode": {
    "name": "ipython",
    "version": 3
   },
   "file_extension": ".py",
   "mimetype": "text/x-python",
   "name": "python",
   "nbconvert_exporter": "python",
   "pygments_lexer": "ipython3",
   "version": "3.10.0"
  },
  "orig_nbformat": 4
 },
 "nbformat": 4,
 "nbformat_minor": 2
}
