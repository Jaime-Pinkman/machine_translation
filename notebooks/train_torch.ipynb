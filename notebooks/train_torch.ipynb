{
 "cells": [
  {
   "cell_type": "code",
   "execution_count": 23,
   "metadata": {},
   "outputs": [],
   "source": [
    "from pathlib import Path\n",
    "\n",
    "import pandas as pd\n",
    "from tqdm import tqdm\n",
    "import torch\n",
    "from torch import nn, optim\n",
    "from torch.utils.data import DataLoader, random_split\n",
    "\n",
    "from src.models import Tokenizer, Vocabulary, VectorizerFactory\n",
    "from src.data.datasets import SparseDatasetFactory, DenseDatasetFactory"
   ]
  },
  {
   "cell_type": "code",
   "execution_count": 3,
   "metadata": {},
   "outputs": [],
   "source": [
    "BASE_DIR = Path().resolve().parent\n",
    "CONVERTED = \"data/converted\"\n",
    "\n",
    "df_train = pd.read_csv(str(BASE_DIR / CONVERTED / \"train.csv\"))\n",
    "df_test = pd.read_csv(str(BASE_DIR / CONVERTED / \"test.csv\"))"
   ]
  },
  {
   "cell_type": "code",
   "execution_count": 4,
   "metadata": {},
   "outputs": [],
   "source": [
    "MAX_DF = 0.8\n",
    "MIN_COUNT = 5\n",
    "MIN_TOKEN_SIZE = 4\n",
    "\n",
    "vocabulary = Vocabulary(max_doc_freq=MAX_DF, min_count=MIN_COUNT)\n",
    "tokenizer = Tokenizer(min_token_size=MIN_TOKEN_SIZE)"
   ]
  },
  {
   "cell_type": "code",
   "execution_count": 5,
   "metadata": {},
   "outputs": [],
   "source": [
    "tokenized_texts_train = tokenizer.tokenize_corpus(list(df_train[\"text\"]))\n",
    "tokenized_texts_test = tokenizer.tokenize_corpus(list(df_test[\"text\"]))\n",
    "\n",
    "vocabulary.build(tokenized_texts_train)"
   ]
  },
  {
   "cell_type": "code",
   "execution_count": 6,
   "metadata": {},
   "outputs": [],
   "source": [
    "use_sparse = True"
   ]
  },
  {
   "cell_type": "code",
   "execution_count": 7,
   "metadata": {},
   "outputs": [],
   "source": [
    "vectorizer_factory = VectorizerFactory(\n",
    "    vocabulary, mode=\"tfidf\", scale=\"minmax\", use_sparse=use_sparse\n",
    ")\n",
    "vectorizer = vectorizer_factory.get_vectorizer()"
   ]
  },
  {
   "cell_type": "code",
   "execution_count": 8,
   "metadata": {},
   "outputs": [],
   "source": [
    "train_vectors = vectorizer.vectorize(tokenized_texts_train)\n",
    "test_vectors = vectorizer.vectorize(tokenized_texts_test)\n",
    "\n",
    "train_targets = df_train[\"label_index\"].to_numpy()\n",
    "test_targets = df_test[\"label_index\"].to_numpy()"
   ]
  },
  {
   "cell_type": "code",
   "execution_count": 10,
   "metadata": {},
   "outputs": [],
   "source": [
    "dataset_factory = SparseDatasetFactory() if use_sparse else DenseDatasetFactory()\n",
    "\n",
    "main_dataset = dataset_factory.create_dataset(train_vectors, train_targets)\n",
    "test_dataset = dataset_factory.create_dataset(test_vectors, test_targets)"
   ]
  },
  {
   "cell_type": "code",
   "execution_count": 12,
   "metadata": {},
   "outputs": [],
   "source": [
    "train_dataset, val_dataset = random_split(main_dataset, [0.8, 0.2])"
   ]
  },
  {
   "cell_type": "code",
   "execution_count": 38,
   "metadata": {},
   "outputs": [],
   "source": [
    "input_size = len(vocabulary)\n",
    "num_classes = len(set(train_targets))\n",
    "learning_rate = 3e-4\n",
    "batch_size = 32\n",
    "num_epochs = 30"
   ]
  },
  {
   "cell_type": "code",
   "execution_count": 39,
   "metadata": {},
   "outputs": [],
   "source": [
    "train_loader = DataLoader(dataset=train_dataset, batch_size=batch_size, shuffle=True)\n",
    "val_loader = DataLoader(dataset=val_dataset, batch_size=batch_size, shuffle=False)\n",
    "test_loader = DataLoader(dataset=test_dataset, batch_size=batch_size, shuffle=False)"
   ]
  },
  {
   "cell_type": "code",
   "execution_count": 40,
   "metadata": {},
   "outputs": [],
   "source": [
    "device = torch.device(\"cuda\") if torch.cuda.is_available() else \"cpu\"\n",
    "\n",
    "model = nn.Linear(input_size, num_classes).to(device)"
   ]
  },
  {
   "cell_type": "code",
   "execution_count": 41,
   "metadata": {},
   "outputs": [],
   "source": [
    "criterion = nn.CrossEntropyLoss()\n",
    "optimizer = optim.Adam(params=model.parameters(), lr=learning_rate)"
   ]
  },
  {
   "cell_type": "code",
   "execution_count": 42,
   "metadata": {},
   "outputs": [
    {
     "name": "stderr",
     "output_type": "stream",
     "text": [
      "100%|██████████| 283/283 [00:00<00:00, 349.85it/s]\n",
      "100%|██████████| 283/283 [00:00<00:00, 328.76it/s]\n",
      "100%|██████████| 283/283 [00:00<00:00, 335.78it/s]\n",
      "100%|██████████| 283/283 [00:00<00:00, 325.67it/s]\n",
      "100%|██████████| 283/283 [00:00<00:00, 333.49it/s]\n",
      "100%|██████████| 283/283 [00:00<00:00, 326.13it/s]\n",
      "100%|██████████| 283/283 [00:00<00:00, 306.96it/s]\n",
      "100%|██████████| 283/283 [00:00<00:00, 293.15it/s]\n",
      "100%|██████████| 283/283 [00:00<00:00, 343.00it/s]\n",
      "100%|██████████| 283/283 [00:00<00:00, 342.03it/s]\n",
      "100%|██████████| 283/283 [00:00<00:00, 339.43it/s]\n",
      "100%|██████████| 283/283 [00:00<00:00, 335.18it/s]\n",
      "100%|██████████| 283/283 [00:00<00:00, 352.16it/s]\n",
      "100%|██████████| 283/283 [00:00<00:00, 315.96it/s]\n",
      "100%|██████████| 283/283 [00:00<00:00, 328.39it/s]\n",
      "100%|██████████| 283/283 [00:00<00:00, 334.91it/s]\n",
      "100%|██████████| 283/283 [00:00<00:00, 325.67it/s]\n",
      "100%|██████████| 283/283 [00:00<00:00, 315.12it/s]\n",
      "100%|██████████| 283/283 [00:01<00:00, 273.23it/s]\n",
      "100%|██████████| 283/283 [00:00<00:00, 313.87it/s]\n",
      "100%|██████████| 283/283 [00:00<00:00, 326.59it/s]\n",
      "100%|██████████| 283/283 [00:00<00:00, 316.49it/s]\n",
      "100%|██████████| 283/283 [00:00<00:00, 341.43it/s]\n",
      "100%|██████████| 283/283 [00:00<00:00, 339.03it/s]\n",
      "100%|██████████| 283/283 [00:00<00:00, 319.68it/s]\n",
      "100%|██████████| 283/283 [00:00<00:00, 327.89it/s]\n",
      "100%|██████████| 283/283 [00:00<00:00, 339.11it/s]\n",
      "100%|██████████| 283/283 [00:00<00:00, 325.36it/s]\n",
      "100%|██████████| 283/283 [00:00<00:00, 317.84it/s]\n",
      "100%|██████████| 283/283 [00:01<00:00, 279.59it/s]\n"
     ]
    }
   ],
   "source": [
    "for epoch in range(num_epochs):\n",
    "    for batch_idx, (data, targets) in enumerate(tqdm(train_loader)):\n",
    "        data = data.to(device)\n",
    "        targets = targets.to(device)\n",
    "\n",
    "        scores = model(data)\n",
    "        loss = criterion(scores, targets)\n",
    "\n",
    "        optimizer.zero_grad()\n",
    "        loss.backward()\n",
    "\n",
    "        optimizer.step()"
   ]
  },
  {
   "cell_type": "code",
   "execution_count": 27,
   "metadata": {},
   "outputs": [],
   "source": [
    "def check_accuracy(loader, model):\n",
    "    num_correct = 0\n",
    "    num_samples = 0\n",
    "    model.eval()\n",
    "\n",
    "    with torch.no_grad():\n",
    "        for x, y in loader:\n",
    "            x = x.to(device)\n",
    "            y = y.to(device)\n",
    "\n",
    "            scores = model(x)\n",
    "            _, predictions = scores.max(1)\n",
    "\n",
    "            num_correct += (predictions == y).sum()\n",
    "\n",
    "            num_samples += predictions.size(0)\n",
    "\n",
    "    model.train()\n",
    "    return num_correct / num_samples"
   ]
  },
  {
   "cell_type": "code",
   "execution_count": 43,
   "metadata": {},
   "outputs": [
    {
     "name": "stdout",
     "output_type": "stream",
     "text": [
      "Accuracy on training set: 85.37\n",
      "Accuracy on val set: 67.90\n",
      "Accuracy on test set: 50.52\n"
     ]
    }
   ],
   "source": [
    "model.to(device)\n",
    "print(f\"Accuracy on training set: {check_accuracy(train_loader, model)*100:.2f}\")\n",
    "print(f\"Accuracy on val set: {check_accuracy(val_loader, model)*100:.2f}\")\n",
    "print(f\"Accuracy on test set: {check_accuracy(test_loader, model)*100:.2f}\")"
   ]
  }
 ],
 "metadata": {
  "interpreter": {
   "hash": "ecde725cc65143996bb99a158e6a835ceea39a82b5ae887c114ed7ad9018d34b"
  },
  "kernelspec": {
   "display_name": "Python 3.10.0 ('mt')",
   "language": "python",
   "name": "python3"
  },
  "language_info": {
   "codemirror_mode": {
    "name": "ipython",
    "version": 3
   },
   "file_extension": ".py",
   "mimetype": "text/x-python",
   "name": "python",
   "nbconvert_exporter": "python",
   "pygments_lexer": "ipython3",
   "version": "3.10.0"
  },
  "orig_nbformat": 4
 },
 "nbformat": 4,
 "nbformat_minor": 2
}
