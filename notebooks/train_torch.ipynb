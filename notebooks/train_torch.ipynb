{
 "cells": [
  {
   "cell_type": "code",
   "execution_count": 25,
   "metadata": {},
   "outputs": [],
   "source": [
    "import sys\n",
    "from pathlib import Path\n",
    "\n",
    "BASE_DIR = Path().resolve().parent\n",
    "SRC_PATH = BASE_DIR / \"src\"\n",
    "\n",
    "sys.path.append(str(SRC_PATH))"
   ]
  },
  {
   "cell_type": "code",
   "execution_count": null,
   "metadata": {},
   "outputs": [],
   "source": [
    "from clearml import Task\n",
    "import pandas as pd\n",
    "from tqdm import tqdm\n",
    "import torch\n",
    "from torch import nn, optim\n",
    "from torch.utils.data import DataLoader, random_split\n",
    "from torch.utils.tensorboard import SummaryWriter\n",
    "\n",
    "from text_classifier.data.text_processing import (\n",
    "    Tokenizer,\n",
    "    Vocabulary,\n",
    "    VectorizerFactory,\n",
    ")\n",
    "from text_classifier.data.datasets import SparseDatasetFactory, DenseDatasetFactory\n",
    "from text_classifier.utils import load_params"
   ]
  },
  {
   "cell_type": "code",
   "execution_count": null,
   "metadata": {},
   "outputs": [],
   "source": [
    "PACKAGE = \"text_classifier\"\n",
    "DATA = \"data\"\n",
    "MODELS = \"models\"\n",
    "INTERIM = \"interim\"\n",
    "EXPS = \"experiments\"\n",
    "CONFIG = \"config\"\n",
    "LOGS = \"logs\""
   ]
  },
  {
   "cell_type": "code",
   "execution_count": null,
   "metadata": {},
   "outputs": [],
   "source": [
    "EXP = \"exp01\"\n",
    "params = load_params(str(SRC_PATH / PACKAGE / CONFIG / EXPS / f\"{EXP}_{CONFIG}.yaml\"))"
   ]
  },
  {
   "cell_type": "code",
   "execution_count": 2,
   "metadata": {},
   "outputs": [
    {
     "name": "stdout",
     "output_type": "stream",
     "text": [
      "ClearML Task: overwriting (reusing) task id=c9685da79129424e9ccca6f63fc69efa\n",
      "2023-07-16 01:58:57,230 - clearml.Repository Detection - WARNING - Could not read Jupyter Notebook: No module named 'nbconvert'\n",
      "2023-07-16 01:58:57,237 - clearml.Task - INFO - Storing jupyter notebook directly as code\n",
      "ClearML results page: https://app.clear.ml/projects/85843605c9c34843adfa28f6f4b428bd/experiments/c9685da79129424e9ccca6f63fc69efa/output/log\n"
     ]
    }
   ],
   "source": [
    "task = Task.init(\n",
    "    project_name=\"News Classification\",\n",
    "    task_name=\"torch nn.Linear simple example\",\n",
    "    output_uri=True,\n",
    ")\n",
    "task.set_parameters(params)"
   ]
  },
  {
   "cell_type": "code",
   "execution_count": 3,
   "metadata": {},
   "outputs": [],
   "source": [
    "writer = SummaryWriter(log_dir=str(BASE_DIR / EXPS / EXP / LOGS))"
   ]
  },
  {
   "cell_type": "code",
   "execution_count": 7,
   "metadata": {},
   "outputs": [],
   "source": [
    "MAX_DF = 0.8\n",
    "MIN_COUNT = 5\n",
    "MIN_TOKEN_SIZE = 4\n",
    "\n",
    "vocabulary = Vocabulary(max_doc_freq=MAX_DF, min_count=MIN_COUNT)\n",
    "tokenizer = Tokenizer(min_token_size=MIN_TOKEN_SIZE)"
   ]
  },
  {
   "cell_type": "code",
   "execution_count": 8,
   "metadata": {},
   "outputs": [],
   "source": [
    "df_train = pd.read_csv(str(BASE_DIR / DATA / INTERIM / \"train.csv\"))\n",
    "df_test = pd.read_csv(str(BASE_DIR / DATA / INTERIM / \"test.csv\"))\n",
    "\n",
    "tokenized_texts_train = tokenizer.tokenize_corpus(list(df_train[\"text\"]))\n",
    "tokenized_texts_test = tokenizer.tokenize_corpus(list(df_test[\"text\"]))\n",
    "\n",
    "vocabulary.build(tokenized_texts_train)"
   ]
  },
  {
   "cell_type": "code",
   "execution_count": 9,
   "metadata": {},
   "outputs": [],
   "source": [
    "use_sparse = True"
   ]
  },
  {
   "cell_type": "code",
   "execution_count": 10,
   "metadata": {},
   "outputs": [],
   "source": [
    "vectorizer_factory = VectorizerFactory(\n",
    "    vocabulary, mode=\"tfidf\", scale=\"minmax\", use_sparse=use_sparse\n",
    ")\n",
    "vectorizer = vectorizer_factory.get_vectorizer()"
   ]
  },
  {
   "cell_type": "code",
   "execution_count": 11,
   "metadata": {},
   "outputs": [],
   "source": [
    "train_vectors = vectorizer.vectorize(tokenized_texts_train)\n",
    "test_vectors = vectorizer.vectorize(tokenized_texts_test)\n",
    "\n",
    "train_targets = df_train[\"label_index\"].to_numpy()\n",
    "test_targets = df_test[\"label_index\"].to_numpy()"
   ]
  },
  {
   "cell_type": "code",
   "execution_count": 12,
   "metadata": {},
   "outputs": [],
   "source": [
    "dataset_factory = SparseDatasetFactory() if use_sparse else DenseDatasetFactory()\n",
    "\n",
    "main_dataset = dataset_factory.create_dataset(train_vectors, train_targets)\n",
    "test_dataset = dataset_factory.create_dataset(test_vectors, test_targets)"
   ]
  },
  {
   "cell_type": "code",
   "execution_count": 13,
   "metadata": {},
   "outputs": [],
   "source": [
    "train_dataset, val_dataset = random_split(main_dataset, [0.8, 0.2])"
   ]
  },
  {
   "cell_type": "code",
   "execution_count": 14,
   "metadata": {},
   "outputs": [],
   "source": [
    "input_size = len(vocabulary)\n",
    "num_classes = len(set(train_targets))"
   ]
  },
  {
   "cell_type": "code",
   "execution_count": 15,
   "metadata": {},
   "outputs": [],
   "source": [
    "learning_rate = params[\"learning_rate\"]\n",
    "batch_size = params[\"batch_size\"]\n",
    "num_epochs = params[\"num_epochs\"]"
   ]
  },
  {
   "cell_type": "code",
   "execution_count": 17,
   "metadata": {},
   "outputs": [],
   "source": [
    "loaders = {\n",
    "    \"train\": DataLoader(dataset=train_dataset, batch_size=batch_size, shuffle=True),\n",
    "    \"val\": DataLoader(dataset=val_dataset, batch_size=batch_size, shuffle=False),\n",
    "    \"test\": DataLoader(dataset=test_dataset, batch_size=batch_size, shuffle=False),\n",
    "}"
   ]
  },
  {
   "cell_type": "code",
   "execution_count": 18,
   "metadata": {},
   "outputs": [],
   "source": [
    "device = torch.device(\"cuda\") if torch.cuda.is_available() else \"cpu\"\n",
    "\n",
    "model = nn.Linear(input_size, num_classes).to(device)"
   ]
  },
  {
   "cell_type": "code",
   "execution_count": 19,
   "metadata": {},
   "outputs": [],
   "source": [
    "criterion = nn.CrossEntropyLoss()\n",
    "optimizer = optim.Adam(params=model.parameters(), lr=learning_rate)"
   ]
  },
  {
   "cell_type": "code",
   "execution_count": 20,
   "metadata": {},
   "outputs": [],
   "source": [
    "def check_loss_accuracy(loader, model, criterion):\n",
    "    num_correct = 0\n",
    "    num_samples = 0\n",
    "    loss = 0.0\n",
    "    model.eval()\n",
    "\n",
    "    with torch.no_grad():\n",
    "        for x, y in loader:\n",
    "            x = x.to(device)\n",
    "            y = y.to(device)\n",
    "\n",
    "            scores = model(x)\n",
    "\n",
    "            _, predictions = scores.max(1)\n",
    "\n",
    "            loss += criterion(scores, y)\n",
    "\n",
    "            num_correct += (predictions == y).sum()\n",
    "\n",
    "            num_samples += predictions.size(0)\n",
    "\n",
    "    model.train()\n",
    "    return num_correct / num_samples, loss / len(loader)"
   ]
  },
  {
   "cell_type": "code",
   "execution_count": 21,
   "metadata": {},
   "outputs": [],
   "source": [
    "def train_eval_model(\n",
    "    model,\n",
    "    loaders,\n",
    "    num_epochs,\n",
    "    criterion,\n",
    "    optimizer,\n",
    "    device=\"cpu\",\n",
    "    save_model_path=None,\n",
    "    writer=None,\n",
    "):\n",
    "    for epoch in tqdm(range(num_epochs)):\n",
    "        for batch in loaders[\"train\"]:\n",
    "            data, targets = batch\n",
    "            data = data.to(device)\n",
    "            targets = targets.to(device)\n",
    "\n",
    "            scores = model(data)\n",
    "            loss = criterion(scores, targets)\n",
    "\n",
    "            optimizer.zero_grad()\n",
    "            loss.backward()\n",
    "\n",
    "            optimizer.step()\n",
    "\n",
    "        for stage, loader in loaders.items():\n",
    "            acc, loss = check_loss_accuracy(loader, model, criterion)\n",
    "            if writer is not None:\n",
    "                writer.add_scalar(f\"Acc/{stage}\", acc, epoch)\n",
    "                writer.add_scalar(f\"Loss/{stage}\", loss, epoch)\n",
    "            else:\n",
    "                print(f\"Acc/{stage}\", acc.item(), epoch)\n",
    "                print(f\"Loss/{stage}\", loss.item(), epoch)\n",
    "\n",
    "    if save_model_path is not None:\n",
    "        torch.save(model.state_dict(), save_model_path)"
   ]
  },
  {
   "cell_type": "code",
   "execution_count": 22,
   "metadata": {},
   "outputs": [
    {
     "name": "stderr",
     "output_type": "stream",
     "text": [
      "100%|██████████| 50/50 [02:10<00:00,  2.62s/it]\n"
     ]
    }
   ],
   "source": [
    "train_eval_model(\n",
    "    model=model,\n",
    "    laoders=loaders,\n",
    "    num_epochs=num_epochs,\n",
    "    criterion=criterion,\n",
    "    optimizer=optimizer,\n",
    "    device=device,\n",
    "    save_model_path=str(BASE_DIR / EXPS / EXP / MODELS / \"linear.pt\"),\n",
    "    writer=writer,\n",
    ")"
   ]
  },
  {
   "cell_type": "code",
   "execution_count": null,
   "metadata": {},
   "outputs": [],
   "source": [
    "writer.flush()"
   ]
  }
 ],
 "metadata": {
  "interpreter": {
   "hash": "ecde725cc65143996bb99a158e6a835ceea39a82b5ae887c114ed7ad9018d34b"
  },
  "kernelspec": {
   "display_name": "Python 3.10.0 ('mt')",
   "language": "python",
   "name": "python3"
  },
  "language_info": {
   "codemirror_mode": {
    "name": "ipython",
    "version": 3
   },
   "file_extension": ".py",
   "mimetype": "text/x-python",
   "name": "python",
   "nbconvert_exporter": "python",
   "pygments_lexer": "ipython3",
   "version": "3.10.0"
  },
  "orig_nbformat": 4
 },
 "nbformat": 4,
 "nbformat_minor": 2
}
